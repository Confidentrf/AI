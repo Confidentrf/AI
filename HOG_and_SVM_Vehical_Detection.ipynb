{
  "nbformat": 4,
  "nbformat_minor": 0,
  "metadata": {
    "colab": {
      "provenance": [],
      "authorship_tag": "ABX9TyOaPTqgzNVK7ixJDyTrtZOG",
      "include_colab_link": true
    },
    "kernelspec": {
      "name": "python3",
      "display_name": "Python 3"
    },
    "language_info": {
      "name": "python"
    }
  },
  "cells": [
    {
      "cell_type": "markdown",
      "metadata": {
        "id": "view-in-github",
        "colab_type": "text"
      },
      "source": [
        "<a href=\"https://colab.research.google.com/github/Confidentrf/AI/blob/Machine-Learning/HOG_and_SVM_Vehical_Detection.ipynb\" target=\"_parent\"><img src=\"https://colab.research.google.com/assets/colab-badge.svg\" alt=\"Open In Colab\"/></a>"
      ]
    },
    {
      "cell_type": "markdown",
      "source": [
        "# Dataset source:\n",
        "# https://github.com/udacity/CarND-Vehicle-Detection\n",
        "# http://www.gti.ssr.upm.es/data/Vehicle_database.html\n",
        "# http://www.cvlibs.net/datasets/kitti/\n",
        "        "
      ],
      "metadata": {
        "id": "xVtUZNLcfF48"
      }
    },
    {
      "cell_type": "code",
      "execution_count": null,
      "metadata": {
        "id": "AdDOrrt-ek9g"
      },
      "outputs": [],
      "source": [
        "import cv2\n",
        "import numpy as np\n",
        "import seaborn as sns\n",
        "from matplotlib import pyplot as plt\n",
        "import matplotlib.image as mpimg\n",
        "from skimage.feature import hog"
      ]
    },
    {
      "cell_type": "code",
      "source": [
        "#import training dataset of vehicles/non-vehicles\n",
        "import glob\n",
        "car = glob.glob('data/car/**/*.png')\n",
        "no_car = glob.glob('data/no car/**/*.png')\n"
      ],
      "metadata": {
        "id": "igEtDowgfK_O"
      },
      "execution_count": null,
      "outputs": []
    },
    {
      "cell_type": "code",
      "source": [
        "len(car)"
      ],
      "metadata": {
        "id": "Eb0BBhf9fMW0"
      },
      "execution_count": null,
      "outputs": []
    },
    {
      "cell_type": "code",
      "source": [
        "len(no_car)"
      ],
      "metadata": {
        "id": "sgWxsa96fOJL"
      },
      "execution_count": null,
      "outputs": []
    },
    {
      "cell_type": "code",
      "source": [
        "image_gray = cv2.cvtColor(image_color, cv2.COLOR_BGR2GRAY)\n",
        "plt.imshow(image_gray, cmap = 'gray')"
      ],
      "metadata": {
        "id": "ci3XPhhFfQD1"
      },
      "execution_count": null,
      "outputs": []
    },
    {
      "cell_type": "markdown",
      "source": [
        "# GET HOG FEATURES"
      ],
      "metadata": {
        "id": "jP-65Ld_fUr5"
      }
    },
    {
      "cell_type": "code",
      "source": [
        "features, hog_image = hog(image_gray,\n",
        "                          orientations = 11,\n",
        "                          pixels_per_cell = (16, 16),\n",
        "                          cells_per_block = (2, 2),\n",
        "                          transform_sqrt = False,\n",
        "                          visualize = True,\n",
        "                          feature_vector = True)\n",
        "\n",
        "features.shape"
      ],
      "metadata": {
        "id": "vRcXoSqsfWeI"
      },
      "execution_count": null,
      "outputs": []
    },
    {
      "cell_type": "code",
      "source": [
        "hog_image.shape"
      ],
      "metadata": {
        "id": "ezaPJs9hfYBs"
      },
      "execution_count": null,
      "outputs": []
    },
    {
      "cell_type": "code",
      "source": [
        "plt.imshow(hog_image, cmap = 'gray')\n"
      ],
      "metadata": {
        "id": "We3t-rbqfZfk"
      },
      "execution_count": null,
      "outputs": []
    },
    {
      "cell_type": "code",
      "source": [
        "X_car = np.vstack(car_hog_accum).astype(np.float64)\n",
        "y_car = np.ones(len(X_car))"
      ],
      "metadata": {
        "id": "vZfFbgcMfiLy"
      },
      "execution_count": null,
      "outputs": []
    },
    {
      "cell_type": "code",
      "source": [
        "X_car.shape"
      ],
      "metadata": {
        "id": "A8Yf6DsTfqZg"
      },
      "execution_count": null,
      "outputs": []
    },
    {
      "cell_type": "code",
      "source": [
        "y_car.shape"
      ],
      "metadata": {
        "id": "nvNld1KCfrp4"
      },
      "execution_count": null,
      "outputs": []
    },
    {
      "cell_type": "code",
      "source": [
        "y_car"
      ],
      "metadata": {
        "id": "ahxIi4NkfuWO"
      },
      "execution_count": null,
      "outputs": []
    },
    {
      "cell_type": "code",
      "source": [
        "nocar_hog_accum = []\n",
        "\n",
        "for i in no_car:\n",
        "    image_color = mpimg.imread(i)\n",
        "    image_gray  = cv2.cvtColor(image_color, cv2.COLOR_BGR2GRAY)\n",
        "\n",
        "    nocar_hog_feature, car_hog_img = hog(image_color[:,:,0],\n",
        "                                    orientations = 11,\n",
        "                                    pixels_per_cell = (16, 16),\n",
        "                                    cells_per_block = (2, 2),\n",
        "                                    transform_sqrt = False,\n",
        "                                    visualize = True,\n",
        "                                    feature_vector = True)\n",
        "\n",
        "    nocar_hog_accum.append(nocar_hog_feature)\n"
      ],
      "metadata": {
        "id": "z2RJk6p8fu6I"
      },
      "execution_count": null,
      "outputs": []
    },
    {
      "cell_type": "code",
      "source": [
        "X_nocar = np.vstack(nocar_hog_accum).astype(np.float64)\n",
        "y_nocar = np.zeros(len(X_nocar))\n"
      ],
      "metadata": {
        "id": "9xi5_YMmfxCw"
      },
      "execution_count": null,
      "outputs": []
    },
    {
      "cell_type": "code",
      "source": [
        "X_nocar.shape"
      ],
      "metadata": {
        "id": "4iyCldV6fysF"
      },
      "execution_count": null,
      "outputs": []
    },
    {
      "cell_type": "code",
      "source": [
        "y_nocar.shape"
      ],
      "metadata": {
        "id": "gTjsI1anf2JI"
      },
      "execution_count": null,
      "outputs": []
    },
    {
      "cell_type": "code",
      "source": [
        "X = np.vstack((X_car, X_nocar))\n",
        "X.shape"
      ],
      "metadata": {
        "id": "offGQbMYf2pK"
      },
      "execution_count": null,
      "outputs": []
    },
    {
      "cell_type": "code",
      "source": [
        "y = np.hstack((y_car, y_nocar))\n",
        "y.shape"
      ],
      "metadata": {
        "id": "-7bOFvAsf38p"
      },
      "execution_count": null,
      "outputs": []
    },
    {
      "cell_type": "markdown",
      "source": [
        "# SVM MODEL CLASSIFIER TRAINING"
      ],
      "metadata": {
        "id": "2h5FleMsf5ac"
      }
    },
    {
      "cell_type": "code",
      "source": [
        "from sklearn.model_selection import train_test_split\n",
        "X_train, X_test, y_train, y_test = train_test_split(X, y, test_size=0.25, random_state=101)\n"
      ],
      "metadata": {
        "id": "lidQsLYYf7PJ"
      },
      "execution_count": null,
      "outputs": []
    },
    {
      "cell_type": "code",
      "source": [
        "from sklearn.svm import LinearSVC\n",
        "from sklearn.metrics import classification_report,confusion_matrix\n",
        "svc_model = LinearSVC()\n",
        "svc_model.fit(X_train,y_train)"
      ],
      "metadata": {
        "id": "NSqByxRDf9ir"
      },
      "execution_count": null,
      "outputs": []
    },
    {
      "cell_type": "code",
      "source": [
        "y_predict = svc_model.predict(X_test)\n",
        "\n",
        "from sklearn.metrics import classification_report, confusion_matrix\n",
        "cm = confusion_matrix(y_test, y_predict)\n",
        "\n",
        "sns.heatmap(cm, annot=True, fmt=\"d\")"
      ],
      "metadata": {
        "id": "ZD0lja7dgBO8"
      },
      "execution_count": null,
      "outputs": []
    },
    {
      "cell_type": "code",
      "source": [
        "print(classification_report(y_test, y_predict))"
      ],
      "metadata": {
        "id": "c2ZSQWElgC0d"
      },
      "execution_count": null,
      "outputs": []
    },
    {
      "cell_type": "code",
      "source": [
        "Model_prediction = svc_model.predict(X_test[0:50])\n",
        "Model_prediction"
      ],
      "metadata": {
        "id": "I062S7ovgDTw"
      },
      "execution_count": null,
      "outputs": []
    },
    {
      "cell_type": "code",
      "source": [
        "Model_TrueLabel = y_test[0:50]\n",
        "Model_TrueLabel"
      ],
      "metadata": {
        "id": "pkPxHjFQgE6o"
      },
      "execution_count": null,
      "outputs": []
    },
    {
      "cell_type": "markdown",
      "source": [
        "# IMPROVE THE MODEL"
      ],
      "metadata": {
        "id": "I0X3hqvhgIvK"
      }
    },
    {
      "cell_type": "code",
      "source": [
        "param_grid = {'C': [0.1, 1, 10, 100], 'gamma': [1, 0.1, 0.01, 0.001], 'kernel': ['rbf']}\n",
        "\n",
        "from sklearn.svm import SVC\n",
        "from sklearn.model_selection import GridSearchCV\n",
        "grid = GridSearchCV(SVC(),param_grid,refit=True,verbose=4)\n",
        "grid.fit(X_train,y_train)\n",
        "grid.best_params_\n",
        "grid.best_estimator_\n"
      ],
      "metadata": {
        "id": "aQ4fMvKKgGvq"
      },
      "execution_count": null,
      "outputs": []
    },
    {
      "cell_type": "code",
      "source": [
        "grid_predictions = grid.predict(X_test)\n",
        "cm = confusion_matrix(y_test, grid_predictions)\n",
        "sns.heatmap(cm, annot=True)\n",
        "print(classification_report(y_test,grid_predictions))"
      ],
      "metadata": {
        "id": "7EJR99jKgKqr"
      },
      "execution_count": null,
      "outputs": []
    },
    {
      "cell_type": "markdown",
      "source": [
        "# TEST THE MODEL (FIND CARS)!"
      ],
      "metadata": {
        "id": "xnhmyUqMgNaG"
      }
    },
    {
      "cell_type": "markdown",
      "source": [],
      "metadata": {
        "id": "_H64qC-MgPkf"
      }
    },
    {
      "cell_type": "markdown",
      "source": [],
      "metadata": {
        "id": "ARN4xUnkgNX6"
      }
    },
    {
      "cell_type": "code",
      "source": [
        "h_start = 300\n",
        "h_stop = 480\n",
        "\n",
        "pixels_in_cell = 16\n",
        "HOG_orientations = 11\n",
        "cells_in_block = 2\n",
        "cells_in_step = 3\n",
        "\n",
        "\n",
        "masked_region = test_image[h_start:h_stop,:,:]\n",
        "plt.imshow(masked_region)\n",
        "masked_region.shape\n"
      ],
      "metadata": {
        "id": "DOcSKNTMgTwB"
      },
      "execution_count": null,
      "outputs": []
    },
    {
      "cell_type": "code",
      "source": [
        "resizing_factor = 2\n",
        "masked_region_shape = masked_region.shape\n",
        "L = masked_region_shape[1]/resizing_factor\n",
        "W = masked_region_shape[0]/resizing_factor"
      ],
      "metadata": {
        "id": "SbToh9S-gU_w"
      },
      "execution_count": null,
      "outputs": []
    },
    {
      "cell_type": "code",
      "source": [
        "masked_region_resized = cv2.resize(masked_region, (np.int(L), np.int(W)))\n",
        "masked_region_resized_R = masked_region_resized[:,:,0]\n",
        "\n",
        "print(masked_region_resized.shape)\n",
        "plt.imshow(masked_region_resized)\n"
      ],
      "metadata": {
        "id": "6NuzYIs2gVry"
      },
      "execution_count": null,
      "outputs": []
    },
    {
      "cell_type": "code",
      "source": [
        "\n",
        "print(masked_region_resized_R.shape)\n",
        "masked_region_hog_feature_all, hog_img = hog(masked_region_resized_R, orientations = 11, pixels_per_cell = (16, 16), cells_per_block = (2, 2), transform_sqrt = False, visualize = True, feature_vector = False)\n",
        ""
      ],
      "metadata": {
        "id": "Ui8EE57XgXSA"
      },
      "execution_count": null,
      "outputs": []
    },
    {
      "cell_type": "code",
      "source": [
        "n_blocks_x = (masked_region_resized_R.shape[1] // pixels_in_cell)+1\n",
        "n_blocks_y = (masked_region_resized_R.shape[0] // pixels_in_cell)+1\n",
        "\n",
        "#nfeat_per_block = orientations * cells_in_block **2\n",
        "blocks_in_window = (64 // pixels_in_cell)-1\n",
        "\n",
        "steps_x = (n_blocks_x - blocks_in_window) // cells_in_step\n",
        "steps_y = (n_blocks_y - blocks_in_window) // cells_in_step\n",
        "\n",
        "rectangles_found = []\n",
        "\n",
        "for xb in range(steps_x):\n",
        "    for yb in range(steps_y):\n",
        "        y_position = yb*cells_in_step\n",
        "        x_position = xb*cells_in_step\n",
        "\n",
        "        hog_feat_sample = masked_region_hog_feature_all[y_position : y_position + blocks_in_window, x_position : x_position + blocks_in_window].ravel()\n",
        "        x_left = x_position * pixels_in_cell\n",
        "        y_top = y_position * pixels_in_cell\n",
        "        print(hog_feat_sample.shape)\n",
        "\n",
        "        # predict using trained SVM\n",
        "        test_prediction = svc_model.predict(hog_feat_sample.reshape(1,-1))\n",
        "        # test_prediction = grid.predict(hog_feat_sample.reshape(1,-1))\n",
        "\n",
        "        if test_prediction == 1:\n",
        "            rectangle_x_left = np.int(x_left * resizing_factor)\n",
        "            rectangle_y_top = np.int(y_top * resizing_factor)\n",
        "            window_dim = np.int(64 * resizing_factor)\n",
        "            rectangles_found.append(((rectangle_x_left, rectangle_y_top + h_start),(rectangle_x_left + window_dim, rectangle_y_top + window_dim + h_start)))\n",
        ""
      ],
      "metadata": {
        "id": "REPmDlUmgZeU"
      },
      "execution_count": null,
      "outputs": []
    },
    {
      "cell_type": "code",
      "source": [
        "rectangles_found"
      ],
      "metadata": {
        "id": "A15wwPbJgcT3"
      },
      "execution_count": null,
      "outputs": []
    },
    {
      "cell_type": "code",
      "source": [
        "Image_with_Rectangles_Drawn = np.copy(test_image)\n",
        "\n",
        "for rectangle in rectangles_found:\n",
        "    cv2.rectangle(Image_with_Rectangles_Drawn, rectangle[0], rectangle[1], (0, 255, 0), 20)\n",
        "\n",
        "plt.imshow(Image_with_Rectangles_Drawn)\n",
        ""
      ],
      "metadata": {
        "id": "hHU53smcgeAe"
      },
      "execution_count": null,
      "outputs": []
    }
  ]
}